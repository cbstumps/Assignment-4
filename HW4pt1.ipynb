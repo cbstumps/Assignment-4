{
 "cells": [
  {
   "cell_type": "markdown",
   "id": "f7aa27e8-f054-45b7-89b0-6f240c4e8cd5",
   "metadata": {},
   "source": [
    "DataTypes and Variables"
   ]
  },
  {
   "cell_type": "code",
   "execution_count": 2,
   "id": "c03c6ad1-ddd8-4eee-93df-bf711638d730",
   "metadata": {},
   "outputs": [],
   "source": [
    "a = 18\n",
    "b = 12.5\n",
    "c = \"numbers\""
   ]
  },
  {
   "cell_type": "code",
   "execution_count": 6,
   "id": "9f72aa09-caaf-477e-80fb-b0171eb5c367",
   "metadata": {},
   "outputs": [
    {
     "data": {
      "text/plain": [
       "int"
      ]
     },
     "execution_count": 6,
     "metadata": {},
     "output_type": "execute_result"
    }
   ],
   "source": [
    "type(a)"
   ]
  },
  {
   "cell_type": "code",
   "execution_count": 7,
   "id": "c29b7438-1cde-4412-8322-3da6a48ccb97",
   "metadata": {},
   "outputs": [
    {
     "data": {
      "text/plain": [
       "float"
      ]
     },
     "execution_count": 7,
     "metadata": {},
     "output_type": "execute_result"
    }
   ],
   "source": [
    "type(b)"
   ]
  },
  {
   "cell_type": "code",
   "execution_count": 8,
   "id": "47c6efd1-caac-4578-bd49-cb42b45c4098",
   "metadata": {},
   "outputs": [
    {
     "data": {
      "text/plain": [
       "str"
      ]
     },
     "execution_count": 8,
     "metadata": {},
     "output_type": "execute_result"
    }
   ],
   "source": [
    "type(c)"
   ]
  },
  {
   "cell_type": "code",
   "execution_count": 11,
   "id": "b3bb75a7-eeb4-4326-8c0f-46c5cba068e8",
   "metadata": {},
   "outputs": [
    {
     "name": "stdout",
     "output_type": "stream",
     "text": [
      "18 and 12.5 are numbers\n"
     ]
    }
   ],
   "source": [
    "print(f\"{a} and {b} are {c}\")"
   ]
  },
  {
   "cell_type": "code",
   "execution_count": 16,
   "id": "89c59032-fe46-492f-a498-869dc9716ed4",
   "metadata": {},
   "outputs": [],
   "source": [
    "a = str()\n",
    "b = int()\n",
    "c = bool()"
   ]
  },
  {
   "cell_type": "code",
   "execution_count": 17,
   "id": "a51dfa8d-26b0-4f4d-b113-b900349ec665",
   "metadata": {},
   "outputs": [
    {
     "data": {
      "text/plain": [
       "False"
      ]
     },
     "execution_count": 17,
     "metadata": {},
     "output_type": "execute_result"
    }
   ],
   "source": [
    "\"games\" == \"Games\""
   ]
  },
  {
   "cell_type": "code",
   "execution_count": 19,
   "id": "215b48b9-cc0e-409e-bf04-7bd14d0b17e4",
   "metadata": {},
   "outputs": [
    {
     "ename": "NameError",
     "evalue": "name 'Einstein' is not defined",
     "output_type": "error",
     "traceback": [
      "\u001b[1;31m---------------------------------------------------------------------------\u001b[0m",
      "\u001b[1;31mNameError\u001b[0m                                 Traceback (most recent call last)",
      "Cell \u001b[1;32mIn[19], line 1\u001b[0m\n\u001b[1;32m----> 1\u001b[0m name \u001b[38;5;241m=\u001b[39m Einstein\n",
      "\u001b[1;31mNameError\u001b[0m: name 'Einstein' is not defined"
     ]
    }
   ],
   "source": [
    "name = Einstein\n",
    "#This code gives an error because we need quotations around \"Einstein\" to assign it to be a string"
   ]
  },
  {
   "cell_type": "markdown",
   "id": "ad51f2a1-7e76-4866-a69b-b41f7ca0bb84",
   "metadata": {},
   "source": [
    "Math Operators"
   ]
  },
  {
   "cell_type": "code",
   "execution_count": 20,
   "id": "0a81c841-65a3-42a4-9efe-0a6a82d8ac3c",
   "metadata": {},
   "outputs": [],
   "source": [
    "e = 2.71828\n",
    "x = 2\n",
    "y = 1.5\n",
    "z = 4"
   ]
  },
  {
   "cell_type": "code",
   "execution_count": 25,
   "id": "83bc4098-43ad-40c8-a941-7c136bc32e9b",
   "metadata": {},
   "outputs": [
    {
     "data": {
      "text/plain": [
       "3.333333333333333"
      ]
     },
     "execution_count": 25,
     "metadata": {},
     "output_type": "execute_result"
    }
   ],
   "source": [
    "((z**.5)/y)+x"
   ]
  },
  {
   "cell_type": "code",
   "execution_count": 26,
   "id": "52fb0011-843f-4636-81b2-fb4f06de2f08",
   "metadata": {},
   "outputs": [
    {
     "data": {
      "text/plain": [
       "12.25"
      ]
     },
     "execution_count": 26,
     "metadata": {},
     "output_type": "execute_result"
    }
   ],
   "source": [
    "(x+y)**2"
   ]
  },
  {
   "cell_type": "code",
   "execution_count": 31,
   "id": "85acfc19-3995-4df8-9d2c-a3f143fd7fa7",
   "metadata": {},
   "outputs": [
    {
     "data": {
      "text/plain": [
       "8.315365497611809e-07"
      ]
     },
     "execution_count": 31,
     "metadata": {},
     "output_type": "execute_result"
    }
   ],
   "source": [
    "e**((-2)*(x)*(x+y))"
   ]
  },
  {
   "cell_type": "code",
   "execution_count": null,
   "id": "054c4ae3-4ea4-4cce-9bb3-b8cfa20afff8",
   "metadata": {},
   "outputs": [],
   "source": []
  },
  {
   "cell_type": "code",
   "execution_count": null,
   "id": "e00b2264-4c3d-41e5-b66e-3fcb4c124859",
   "metadata": {},
   "outputs": [],
   "source": []
  }
 ],
 "metadata": {
  "kernelspec": {
   "display_name": "base",
   "language": "python",
   "name": "base"
  },
  "language_info": {
   "codemirror_mode": {
    "name": "ipython",
    "version": 3
   },
   "file_extension": ".py",
   "mimetype": "text/x-python",
   "name": "python",
   "nbconvert_exporter": "python",
   "pygments_lexer": "ipython3",
   "version": "3.11.5"
  }
 },
 "nbformat": 4,
 "nbformat_minor": 5
}
